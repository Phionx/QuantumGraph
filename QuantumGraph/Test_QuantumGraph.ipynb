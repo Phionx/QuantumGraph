{
 "cells": [
  {
   "cell_type": "code",
   "execution_count": 1,
   "metadata": {},
   "outputs": [],
   "source": [
    "from QuantumGraph import QuantumGraph\n",
    "import numpy as np"
   ]
  },
  {
   "cell_type": "code",
   "execution_count": null,
   "metadata": {},
   "outputs": [],
   "source": []
  },
  {
   "cell_type": "code",
   "execution_count": 2,
   "metadata": {},
   "outputs": [],
   "source": [
    "eps = 0.05"
   ]
  },
  {
   "cell_type": "code",
   "execution_count": null,
   "metadata": {},
   "outputs": [],
   "source": []
  },
  {
   "cell_type": "code",
   "execution_count": 3,
   "metadata": {},
   "outputs": [],
   "source": [
    "n = 5\n",
    "graph = QuantumGraph(n)"
   ]
  },
  {
   "cell_type": "code",
   "execution_count": null,
   "metadata": {},
   "outputs": [],
   "source": []
  },
  {
   "cell_type": "code",
   "execution_count": 4,
   "metadata": {},
   "outputs": [],
   "source": [
    "initial_rho = {'X': 0.0, 'Y': 0.0, 'Z': 1.0}\n",
    "for j in range(n):\n",
    "    rho = graph.get_bloch(j)\n",
    "    for pauli in ['X','Y','Z']:\n",
    "        assert abs(rho[pauli]-initial_rho[pauli])<eps, print('Problem with qubit',j,':',rho)"
   ]
  },
  {
   "cell_type": "code",
   "execution_count": null,
   "metadata": {},
   "outputs": [],
   "source": []
  },
  {
   "cell_type": "code",
   "execution_count": 5,
   "metadata": {
    "scrolled": false
   },
   "outputs": [],
   "source": [
    "rho_2 = {'X': 1.0, 'Y': 0.0, 'Z': 0.0}\n",
    "q_2 = 2\n",
    "graph.set_bloch(rho_2,q_2)\n",
    "for j in range(n):\n",
    "    rho = graph.get_bloch(j)\n",
    "    for pauli in ['X','Y','Z']:\n",
    "        if j==q_2:\n",
    "            assert abs(rho[pauli]-rho_2[pauli])<eps, print('Problem with qubit',j,':',rho)\n",
    "        else:\n",
    "            assert abs(rho[pauli]-initial_rho[pauli])<eps, print('Problem with qubit',j,':',rho)\n",
    "            \n"
   ]
  },
  {
   "cell_type": "code",
   "execution_count": null,
   "metadata": {},
   "outputs": [],
   "source": []
  },
  {
   "cell_type": "code",
   "execution_count": 6,
   "metadata": {},
   "outputs": [],
   "source": [
    "assert abs(graph.get_relationship(1,2)['ZX']-1)<eps\n",
    "assert abs(graph.get_relationship(2,1)['XZ']-1)<eps"
   ]
  },
  {
   "cell_type": "code",
   "execution_count": null,
   "metadata": {},
   "outputs": [],
   "source": []
  },
  {
   "cell_type": "code",
   "execution_count": 7,
   "metadata": {},
   "outputs": [],
   "source": [
    "rho_3 = {'X': 1, 'Y': 1, 'Z': 0.0}\n",
    "q_3 = 3\n",
    "graph.set_bloch(rho_3,q_3)\n",
    "rho_3 = {'X': 1/np.sqrt(2), 'Y': 1/np.sqrt(2), 'Z': 0.0}\n",
    "for j in range(n):\n",
    "    rho = graph.get_bloch(j)\n",
    "    for pauli in ['X','Y','Z']:\n",
    "        if j==q_2:\n",
    "            assert abs(rho[pauli]-rho_2[pauli])<eps, print('Problem with qubit',j,':',rho)\n",
    "        elif j==q_3:\n",
    "            assert abs(rho[pauli]-rho_3[pauli])<eps, print('Problem with qubit',j,':',rho)\n",
    "        else:\n",
    "            assert abs(rho[pauli]-initial_rho[pauli])<eps, print('Problem with qubit',j,':',rho)"
   ]
  },
  {
   "cell_type": "code",
   "execution_count": null,
   "metadata": {},
   "outputs": [],
   "source": []
  },
  {
   "cell_type": "code",
   "execution_count": 8,
   "metadata": {},
   "outputs": [],
   "source": [
    "rho_4 = {'X': 1.0, 'Y': 0.0, 'Z': 0.0}\n",
    "q_4 = 4\n",
    "graph.set_bloch(rho_4,q_4,fraction=0.5)\n",
    "rho_4 = {'X': 1/np.sqrt(2), 'Y': 0.0, 'Z': 1/np.sqrt(2)}\n",
    "for j in range(n):\n",
    "    rho = graph.get_bloch(j)\n",
    "    for pauli in ['X','Y','Z']:\n",
    "        if j==q_2:\n",
    "            assert abs(rho[pauli]-rho_2[pauli])<eps, print('Problem with qubit',j,':',rho)\n",
    "        elif j==q_3:\n",
    "            assert abs(rho[pauli]-rho_3[pauli])<eps, print('Problem with qubit',j,':',rho)\n",
    "        elif j==q_4:\n",
    "            assert abs(rho[pauli]-rho_4[pauli])<eps, print('Problem with qubit',j,':',rho)\n",
    "        else:\n",
    "            assert abs(rho[pauli]-initial_rho[pauli])<eps, print('Problem with qubit',j,':',rho)"
   ]
  },
  {
   "cell_type": "code",
   "execution_count": null,
   "metadata": {},
   "outputs": [],
   "source": []
  },
  {
   "cell_type": "code",
   "execution_count": 10,
   "metadata": {},
   "outputs": [],
   "source": [
    "\n",
    "\n",
    "relationships = [('ZZ',+1),('XX',+1)]\n",
    "graph.set_relationship(relationships,1,2)\n",
    "rho_12 = graph.get_relationship(1,2)\n",
    "for (pauli,sign) in relationships:\n",
    "    assert abs(rho_12[pauli]-sign)<2*eps, print('Problem with `set_relationship`:',rho_12)\n",
    "\n",
    "    \n",
    "relationships = [('ZX',+1),('XZ',+1)]\n",
    "graph.set_relationship(relationships,1,2)\n",
    "rho_12 = graph.get_relationship(1,2)\n",
    "for (pauli,sign) in relationships:\n",
    "    assert abs(rho_12[pauli]-sign)<2*eps, print('Problem with `set_relationship`:',rho_12)"
   ]
  },
  {
   "cell_type": "code",
   "execution_count": null,
   "metadata": {},
   "outputs": [],
   "source": []
  },
  {
   "cell_type": "code",
   "execution_count": 11,
   "metadata": {},
   "outputs": [],
   "source": [
    "from qiskit import *\n",
    "from pairwise_tomography.pairwise_state_tomography_circuits import pairwise_state_tomography_circuits\n",
    "from pairwise_tomography.pairwise_fitter import PairwiseStateTomographyFitter\n",
    "\n",
    "qc = QuantumCircuit(3)\n",
    "\n",
    "tomo_circs = pairwise_state_tomography_circuits(qc, qc.qregs[0])\n",
    "tomo_results = execute(tomo_circs,Aer.get_backend('qasm_simulator')).result()\n",
    "fitter = PairwiseStateTomographyFitter(tomo_results, tomo_circs, qc.qregs[0])\n",
    "\n",
    "rho = fitter.fit(pairs_list=[(0,1)])"
   ]
  },
  {
   "cell_type": "code",
   "execution_count": 13,
   "metadata": {},
   "outputs": [
    {
     "data": {
      "text/plain": [
       "{(0,\n",
       "  1): array([[ 9.89692905e-01+0.00000000e+00j, -7.60182237e-03+7.86328823e-03j,\n",
       "          4.63798543e-03+8.48489673e-03j, -9.05689455e-03-7.27528633e-03j],\n",
       "        [-7.60182237e-03-7.86328823e-03j,  5.09522798e-03+0.00000000e+00j,\n",
       "         -4.88270011e-03-8.91836107e-04j, -1.13482647e-05+9.81091696e-05j],\n",
       "        [ 4.63798543e-03-8.48489673e-03j, -4.88270011e-03+8.91836107e-04j,\n",
       "          5.07521950e-03+0.00000000e+00j, -7.72630060e-05+6.92566417e-05j],\n",
       "        [-9.05689455e-03+7.27528633e-03j, -1.13482647e-05-9.81091696e-05j,\n",
       "         -7.72630060e-05-6.92566417e-05j,  1.36647701e-04+0.00000000e+00j]])}"
      ]
     },
     "execution_count": 13,
     "metadata": {},
     "output_type": "execute_result"
    }
   ],
   "source": [
    "rho"
   ]
  },
  {
   "cell_type": "code",
   "execution_count": null,
   "metadata": {},
   "outputs": [],
   "source": []
  }
 ],
 "metadata": {
  "kernelspec": {
   "display_name": "Python 3",
   "language": "python",
   "name": "python3"
  },
  "language_info": {
   "codemirror_mode": {
    "name": "ipython",
    "version": 3
   },
   "file_extension": ".py",
   "mimetype": "text/x-python",
   "name": "python",
   "nbconvert_exporter": "python",
   "pygments_lexer": "ipython3",
   "version": "3.7.3"
  }
 },
 "nbformat": 4,
 "nbformat_minor": 4
}
