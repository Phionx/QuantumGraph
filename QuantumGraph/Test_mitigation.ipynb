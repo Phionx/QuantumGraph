{
 "cells": [
  {
   "cell_type": "code",
   "execution_count": null,
   "metadata": {},
   "outputs": [],
   "source": []
  },
  {
   "cell_type": "code",
   "execution_count": 1,
   "metadata": {},
   "outputs": [],
   "source": [
    "from qiskit import *\n",
    "\n",
    "from GraphMitigation import pairwise_mitigation_circuits, PairwiseMitigationFitter"
   ]
  },
  {
   "cell_type": "code",
   "execution_count": null,
   "metadata": {},
   "outputs": [],
   "source": []
  },
  {
   "cell_type": "code",
   "execution_count": 2,
   "metadata": {},
   "outputs": [],
   "source": [
    "N = 10\n",
    "\n",
    "qc = QuantumCircuit(N)\n",
    "\n",
    "strings = []\n",
    "for circuit in pairwise_mitigation_circuits(qc):\n",
    "    strings.append(execute(circuit,Aer.get_backend('qasm_simulator'),shots=1,memory=True).result().get_memory()[0])\n",
    "     \n",
    "for j in range(N-1):\n",
    "    for k in range(j+1,N):\n",
    "        substrings = []\n",
    "        for string in strings:\n",
    "            substring = string[j]+string[k]\n",
    "            if substring not in substrings:\n",
    "                substrings.append(substring)\n",
    "        for substring in ['00','01','10','11']:\n",
    "            assert(substring in substrings)"
   ]
  },
  {
   "cell_type": "code",
   "execution_count": null,
   "metadata": {},
   "outputs": [],
   "source": []
  },
  {
   "cell_type": "code",
   "execution_count": 3,
   "metadata": {},
   "outputs": [],
   "source": [
    "from qiskit.providers.aer.noise import NoiseModel\n",
    "from qiskit.providers.aer.noise.errors import pauli_error, depolarizing_error\n",
    "\n",
    "def get_noise(p):\n",
    "\n",
    "    error_meas = pauli_error([('X',p), ('I', 1 - p)])\n",
    "\n",
    "    noise_model = NoiseModel()\n",
    "    noise_model.add_all_qubit_quantum_error(error_meas, \"measure\") # measurement error is applied to measurements\n",
    "        \n",
    "    return noise_model"
   ]
  },
  {
   "cell_type": "code",
   "execution_count": null,
   "metadata": {},
   "outputs": [],
   "source": []
  },
  {
   "cell_type": "code",
   "execution_count": 4,
   "metadata": {},
   "outputs": [
    {
     "data": {
      "text/plain": [
       "{'00': 120.0, '01': 0.0, '10': 0.0, '11': 0.0}"
      ]
     },
     "execution_count": 4,
     "metadata": {},
     "output_type": "execute_result"
    }
   ],
   "source": [
    "circuits = pairwise_mitigation_circuits(qc)\n",
    "results = execute(circuits,Aer.get_backend('qasm_simulator'),noise_model=get_noise(0.1)).result()\n",
    "fit = PairwiseMitigationFitter(results, circuits)\n",
    "fit.mitigate_counts({'00':100,'01':10,'10':10},(0,1))"
   ]
  },
  {
   "cell_type": "code",
   "execution_count": null,
   "metadata": {},
   "outputs": [],
   "source": []
  }
 ],
 "metadata": {
  "kernelspec": {
   "display_name": "Python 3",
   "language": "python",
   "name": "python3"
  },
  "language_info": {
   "codemirror_mode": {
    "name": "ipython",
    "version": 3
   },
   "file_extension": ".py",
   "mimetype": "text/x-python",
   "name": "python",
   "nbconvert_exporter": "python",
   "pygments_lexer": "ipython3",
   "version": "3.7.3"
  }
 },
 "nbformat": 4,
 "nbformat_minor": 4
}
