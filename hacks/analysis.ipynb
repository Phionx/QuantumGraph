{
 "cells": [
  {
   "cell_type": "code",
   "execution_count": 1,
   "metadata": {},
   "outputs": [],
   "source": [
    "import os\n",
    "\n",
    "import matplotlib.pyplot as plt\n",
    "import numpy as np"
   ]
  },
  {
   "cell_type": "code",
   "execution_count": 12,
   "metadata": {},
   "outputs": [
    {
     "name": "stdout",
     "output_type": "stream",
     "text": [
      "53 rochester\n",
      "53 depolarized\n",
      "5 simulator\n",
      "5 depolarized\n"
     ]
    }
   ],
   "source": [
    "\n",
    "av_same = {}\n",
    "running_av_same = {}\n",
    "same_loss = {}\n",
    "same_gain = {}\n",
    "\n",
    "for num_civs,backend in [(53,'rochester'),(53,'depolarized'),(5,'simulator'),(5,'depolarized')]:\n",
    "    \n",
    "    print(num_civs,backend)\n",
    "\n",
    "    # get a list of folder names containing the samples\n",
    "    samples = []\n",
    "    folders = [info for info in os.fwalk('maps')][0][1]\n",
    "    for folder in folders:\n",
    "        (n,b,t) = folder.split('_')\n",
    "        if n==str(num_civs) and b==backend:\n",
    "            samples.append(folder)\n",
    "    num_samples = len(samples)\n",
    "    \n",
    "    \n",
    "    sames = []\n",
    "    same_loss[num_civs,backend] = 0\n",
    "    same_gain[num_civs,backend] = 0\n",
    "\n",
    "    for sample in samples:\n",
    "\n",
    "        with open('maps/'+sample+'/data.txt', 'r') as file:\n",
    "            data = file.readlines()\n",
    "\n",
    "        moves = []\n",
    "        transfers = []\n",
    "        years = 0\n",
    "        for dump in data:\n",
    "            dump = eval(dump)\n",
    "            moves.append(dump['moves'])\n",
    "            transfers.append(dump['transfers'])\n",
    "            years += 1\n",
    "\n",
    "        same = []\n",
    "        for year in range(0,years-1):\n",
    "            same.append(0)\n",
    "            num_civs = len(moves[year])\n",
    "            for civ in moves[year]:\n",
    "                same[-1] += (moves[year][civ][0]==moves[year+1][civ][0])/num_civs            \n",
    "        sames.append(same)   \n",
    "        \n",
    "        sl = 0\n",
    "        sg = 0\n",
    "        N = 0\n",
    "        for year in range(int(years/2),years-1):\n",
    "            for (loser,winner,city) in transfers[year]:\n",
    "                N += 1\n",
    "                sl += (moves[year][loser][0]==moves[year+1][loser][0])\n",
    "                sg += (moves[year][winner][0]==moves[year+1][winner][0])\n",
    "        if N>0:\n",
    "            same_loss[num_civs,backend] += sl/(N*num_samples)\n",
    "            same_gain[num_civs,backend] += sg/(N*num_samples)\n",
    " \n",
    "    running_av_same[num_civs,backend] = [0 for _ in range(years-1)]\n",
    "    for same in sames:\n",
    "        for year in range(0,years-1):\n",
    "            running_av_same[num_civs,backend][year] += same[year]/num_samples\n",
    "            \n",
    "    av_same[num_civs,backend] = np.mean(running_av_same[num_civs,backend][int(years/2):years-1])"
   ]
  },
  {
   "cell_type": "code",
   "execution_count": 13,
   "metadata": {},
   "outputs": [
    {
     "data": {
      "text/plain": [
       "{(53, 'rochester'): 0.3703703703703704,\n",
       " (53, 'depolarized'): 0.3302363255193444,\n",
       " (5, 'simulator'): 0.6984126984126985,\n",
       " (5, 'depolarized'): 0.3209876543209876}"
      ]
     },
     "execution_count": 13,
     "metadata": {},
     "output_type": "execute_result"
    }
   ],
   "source": [
    "av_same"
   ]
  },
  {
   "cell_type": "code",
   "execution_count": 14,
   "metadata": {},
   "outputs": [
    {
     "data": {
      "text/plain": [
       "{(53, 'rochester'): 0.33604515139590146,\n",
       " (53, 'depolarized'): 0.32896578447941727,\n",
       " (5, 'simulator'): 0.6015535435500942,\n",
       " (5, 'depolarized'): 0.324728372550239}"
      ]
     },
     "execution_count": 14,
     "metadata": {},
     "output_type": "execute_result"
    }
   ],
   "source": [
    "same_loss"
   ]
  },
  {
   "cell_type": "code",
   "execution_count": 15,
   "metadata": {},
   "outputs": [
    {
     "data": {
      "text/plain": [
       "{(53, 'rochester'): 0.4426665154507763,\n",
       " (53, 'depolarized'): 0.32572964445947034,\n",
       " (5, 'simulator'): 0.66693205563777,\n",
       " (5, 'depolarized'): 0.3348163884497592}"
      ]
     },
     "execution_count": 15,
     "metadata": {},
     "output_type": "execute_result"
    }
   ],
   "source": [
    "same_gain"
   ]
  },
  {
   "cell_type": "code",
   "execution_count": 16,
   "metadata": {},
   "outputs": [
    {
     "data": {
      "image/png": "[encoded data removed]",
      "text/plain": [
       "<Figure size 432x288 with 1 Axes>"
      ]
     },
     "metadata": {
      "needs_background": "light"
     },
     "output_type": "display_data"
    }
   ],
   "source": [
    "x_axis = range(1,years)\n",
    "\n",
    "ax = plt.gca()\n",
    "plt.xlabel('Year, n')\n",
    "plt.ylabel('Continuity')\n",
    "ax.scatter( x_axis, running_av_same[5,'depolarized'], label='depolarized 5', s=64)\n",
    "ax.scatter( x_axis, running_av_same[5,'simulator'], label='simulator 5', s=64)\n",
    "ax.scatter( x_axis, running_av_same[53,'depolarized'], label='depolarized 53', s=64)\n",
    "ax.scatter( x_axis, running_av_same[53,'rochester'], label='rochester 53', s=64)\n",
    "plt.legend()\n",
    "\n",
    "plt.show()"
   ]
  },
  {
   "cell_type": "code",
   "execution_count": 7,
   "metadata": {},
   "outputs": [
    {
     "data": {
      "text/plain": [
       "[0.3081761006289308,\n",
       " 0.4716981132075471,\n",
       " 0.5157232704402516,\n",
       " 0.5251572327044025,\n",
       " 0.5062893081761006,\n",
       " 0.5314465408805031,\n",
       " 0.47484276729559743,\n",
       " 0.4496855345911949,\n",
       " 0.4654088050314465,\n",
       " 0.4465408805031446,\n",
       " 0.3490566037735849,\n",
       " 0.43396226415094336,\n",
       " 0.38364779874213834,\n",
       " 0.3584905660377358,\n",
       " 0.36477987421383645,\n",
       " 0.38679245283018865,\n",
       " 0.3773584905660377,\n",
       " 0.34591194968553457,\n",
       " 0.3333333333333333]"
      ]
     },
     "execution_count": 7,
     "metadata": {},
     "output_type": "execute_result"
    }
   ],
   "source": [
    "running_av_same[53,'rochester']"
   ]
  },
  {
   "cell_type": "code",
   "execution_count": null,
   "metadata": {},
   "outputs": [],
   "source": []
  },
  {
   "cell_type": "code",
   "execution_count": null,
   "metadata": {},
   "outputs": [],
   "source": []
  },
  {
   "cell_type": "code",
   "execution_count": 8,
   "metadata": {},
   "outputs": [],
   "source": [
    "from qiskit import IBMQ\n",
    "IBMQ.load_account()\n",
    "for potential_provider in IBMQ.providers():\n",
    "    for potential_backend in potential_provider.backends():\n",
    "        if potential_backend.name()=='ibmq_rochester':\n",
    "            provider = potential_provider\n",
    "            backend = potential_backend"
   ]
  },
  {
   "cell_type": "code",
   "execution_count": 9,
   "metadata": {},
   "outputs": [],
   "source": [
    "job = backend.jobs()[0]"
   ]
  },
  {
   "cell_type": "code",
   "execution_count": 10,
   "metadata": {},
   "outputs": [
    {
     "name": "stdout",
     "output_type": "stream",
     "text": [
      "('X', 'X', 'X', 'X', 'X', 'X', 'X', 'X', 'X', 'X', 'X', 'X', 'X', 'X', 'X', 'X', 'X', 'X', 'X', 'X', 'X', 'X', 'X', 'X', 'X', 'X', 'X', 'X', 'X', 'X', 'X', 'X', 'X', 'X', 'X', 'X', 'X', 'X', 'X', 'X', 'X', 'X', 'X', 'X', 'X', 'X', 'X', 'X', 'X', 'X', 'X', 'X', 'X')\n",
      "('Y', 'Y', 'Y', 'Y', 'Y', 'Y', 'Y', 'Y', 'Y', 'Y', 'Y', 'Y', 'Y', 'Y', 'Y', 'Y', 'Y', 'Y', 'Y', 'Y', 'Y', 'Y', 'Y', 'Y', 'Y', 'Y', 'Y', 'Y', 'Y', 'Y', 'Y', 'Y', 'Y', 'Y', 'Y', 'Y', 'Y', 'Y', 'Y', 'Y', 'Y', 'Y', 'Y', 'Y', 'Y', 'Y', 'Y', 'Y', 'Y', 'Y', 'Y', 'Y', 'Y')\n",
      "('Z', 'Z', 'Z', 'Z', 'Z', 'Z', 'Z', 'Z', 'Z', 'Z', 'Z', 'Z', 'Z', 'Z', 'Z', 'Z', 'Z', 'Z', 'Z', 'Z', 'Z', 'Z', 'Z', 'Z', 'Z', 'Z', 'Z', 'Z', 'Z', 'Z', 'Z', 'Z', 'Z', 'Z', 'Z', 'Z', 'Z', 'Z', 'Z', 'Z', 'Z', 'Z', 'Z', 'Z', 'Z', 'Z', 'Z', 'Z', 'Z', 'Z', 'Z', 'Z', 'Z')\n",
      "('X', 'Y', 'Z', 'X', 'Y', 'Z', 'X', 'Y', 'Z', 'X', 'Y', 'Z', 'X', 'Y', 'Z', 'X', 'Y', 'Z', 'X', 'Y', 'Z', 'X', 'Y', 'Z', 'X', 'Y', 'Z', 'X', 'Y', 'Z', 'X', 'Y', 'Z', 'X', 'Y', 'Z', 'X', 'Y', 'Z', 'X', 'Y', 'Z', 'X', 'Y', 'Z', 'X', 'Y', 'Z', 'X', 'Y', 'Z', 'X', 'Y')\n",
      "('X', 'Z', 'Y', 'X', 'Z', 'Y', 'X', 'Z', 'Y', 'X', 'Z', 'Y', 'X', 'Z', 'Y', 'X', 'Z', 'Y', 'X', 'Z', 'Y', 'X', 'Z', 'Y', 'X', 'Z', 'Y', 'X', 'Z', 'Y', 'X', 'Z', 'Y', 'X', 'Z', 'Y', 'X', 'Z', 'Y', 'X', 'Z', 'Y', 'X', 'Z', 'Y', 'X', 'Z', 'Y', 'X', 'Z', 'Y', 'X', 'Z')\n",
      "('Y', 'X', 'Z', 'Y', 'X', 'Z', 'Y', 'X', 'Z', 'Y', 'X', 'Z', 'Y', 'X', 'Z', 'Y', 'X', 'Z', 'Y', 'X', 'Z', 'Y', 'X', 'Z', 'Y', 'X', 'Z', 'Y', 'X', 'Z', 'Y', 'X', 'Z', 'Y', 'X', 'Z', 'Y', 'X', 'Z', 'Y', 'X', 'Z', 'Y', 'X', 'Z', 'Y', 'X', 'Z', 'Y', 'X', 'Z', 'Y', 'X')\n",
      "('Y', 'Z', 'X', 'Y', 'Z', 'X', 'Y', 'Z', 'X', 'Y', 'Z', 'X', 'Y', 'Z', 'X', 'Y', 'Z', 'X', 'Y', 'Z', 'X', 'Y', 'Z', 'X', 'Y', 'Z', 'X', 'Y', 'Z', 'X', 'Y', 'Z', 'X', 'Y', 'Z', 'X', 'Y', 'Z', 'X', 'Y', 'Z', 'X', 'Y', 'Z', 'X', 'Y', 'Z', 'X', 'Y', 'Z', 'X', 'Y', 'Z')\n",
      "('Z', 'X', 'Y', 'Z', 'X', 'Y', 'Z', 'X', 'Y', 'Z', 'X', 'Y', 'Z', 'X', 'Y', 'Z', 'X', 'Y', 'Z', 'X', 'Y', 'Z', 'X', 'Y', 'Z', 'X', 'Y', 'Z', 'X', 'Y', 'Z', 'X', 'Y', 'Z', 'X', 'Y', 'Z', 'X', 'Y', 'Z', 'X', 'Y', 'Z', 'X', 'Y', 'Z', 'X', 'Y', 'Z', 'X', 'Y', 'Z', 'X')\n",
      "('Z', 'Y', 'X', 'Z', 'Y', 'X', 'Z', 'Y', 'X', 'Z', 'Y', 'X', 'Z', 'Y', 'X', 'Z', 'Y', 'X', 'Z', 'Y', 'X', 'Z', 'Y', 'X', 'Z', 'Y', 'X', 'Z', 'Y', 'X', 'Z', 'Y', 'X', 'Z', 'Y', 'X', 'Z', 'Y', 'X', 'Z', 'Y', 'X', 'Z', 'Y', 'X', 'Z', 'Y', 'X', 'Z', 'Y', 'X', 'Z', 'Y')\n",
      "('X', 'X', 'X', 'Y', 'Y', 'Y', 'Z', 'Z', 'Z', 'X', 'X', 'X', 'Y', 'Y', 'Y', 'Z', 'Z', 'Z', 'X', 'X', 'X', 'Y', 'Y', 'Y', 'Z', 'Z', 'Z', 'X', 'X', 'X', 'Y', 'Y', 'Y', 'Z', 'Z', 'Z', 'X', 'X', 'X', 'Y', 'Y', 'Y', 'Z', 'Z', 'Z', 'X', 'X', 'X', 'Y', 'Y', 'Y', 'Z', 'Z')\n",
      "('X', 'X', 'X', 'Z', 'Z', 'Z', 'Y', 'Y', 'Y', 'X', 'X', 'X', 'Z', 'Z', 'Z', 'Y', 'Y', 'Y', 'X', 'X', 'X', 'Z', 'Z', 'Z', 'Y', 'Y', 'Y', 'X', 'X', 'X', 'Z', 'Z', 'Z', 'Y', 'Y', 'Y', 'X', 'X', 'X', 'Z', 'Z', 'Z', 'Y', 'Y', 'Y', 'X', 'X', 'X', 'Z', 'Z', 'Z', 'Y', 'Y')\n",
      "('Y', 'Y', 'Y', 'X', 'X', 'X', 'Z', 'Z', 'Z', 'Y', 'Y', 'Y', 'X', 'X', 'X', 'Z', 'Z', 'Z', 'Y', 'Y', 'Y', 'X', 'X', 'X', 'Z', 'Z', 'Z', 'Y', 'Y', 'Y', 'X', 'X', 'X', 'Z', 'Z', 'Z', 'Y', 'Y', 'Y', 'X', 'X', 'X', 'Z', 'Z', 'Z', 'Y', 'Y', 'Y', 'X', 'X', 'X', 'Z', 'Z')\n",
      "('Y', 'Y', 'Y', 'Z', 'Z', 'Z', 'X', 'X', 'X', 'Y', 'Y', 'Y', 'Z', 'Z', 'Z', 'X', 'X', 'X', 'Y', 'Y', 'Y', 'Z', 'Z', 'Z', 'X', 'X', 'X', 'Y', 'Y', 'Y', 'Z', 'Z', 'Z', 'X', 'X', 'X', 'Y', 'Y', 'Y', 'Z', 'Z', 'Z', 'X', 'X', 'X', 'Y', 'Y', 'Y', 'Z', 'Z', 'Z', 'X', 'X')\n",
      "('Z', 'Z', 'Z', 'X', 'X', 'X', 'Y', 'Y', 'Y', 'Z', 'Z', 'Z', 'X', 'X', 'X', 'Y', 'Y', 'Y', 'Z', 'Z', 'Z', 'X', 'X', 'X', 'Y', 'Y', 'Y', 'Z', 'Z', 'Z', 'X', 'X', 'X', 'Y', 'Y', 'Y', 'Z', 'Z', 'Z', 'X', 'X', 'X', 'Y', 'Y', 'Y', 'Z', 'Z', 'Z', 'X', 'X', 'X', 'Y', 'Y')\n",
      "('Z', 'Z', 'Z', 'Y', 'Y', 'Y', 'X', 'X', 'X', 'Z', 'Z', 'Z', 'Y', 'Y', 'Y', 'X', 'X', 'X', 'Z', 'Z', 'Z', 'Y', 'Y', 'Y', 'X', 'X', 'X', 'Z', 'Z', 'Z', 'Y', 'Y', 'Y', 'X', 'X', 'X', 'Z', 'Z', 'Z', 'Y', 'Y', 'Y', 'X', 'X', 'X', 'Z', 'Z', 'Z', 'Y', 'Y', 'Y', 'X', 'X')\n",
      "('X', 'X', 'X', 'X', 'X', 'X', 'X', 'X', 'X', 'Y', 'Y', 'Y', 'Y', 'Y', 'Y', 'Y', 'Y', 'Y', 'Z', 'Z', 'Z', 'Z', 'Z', 'Z', 'Z', 'Z', 'Z', 'X', 'X', 'X', 'X', 'X', 'X', 'X', 'X', 'X', 'Y', 'Y', 'Y', 'Y', 'Y', 'Y', 'Y', 'Y', 'Y', 'Z', 'Z', 'Z', 'Z', 'Z', 'Z', 'Z', 'Z')\n",
      "('X', 'X', 'X', 'X', 'X', 'X', 'X', 'X', 'X', 'Z', 'Z', 'Z', 'Z', 'Z', 'Z', 'Z', 'Z', 'Z', 'Y', 'Y', 'Y', 'Y', 'Y', 'Y', 'Y', 'Y', 'Y', 'X', 'X', 'X', 'X', 'X', 'X', 'X', 'X', 'X', 'Z', 'Z', 'Z', 'Z', 'Z', 'Z', 'Z', 'Z', 'Z', 'Y', 'Y', 'Y', 'Y', 'Y', 'Y', 'Y', 'Y')\n",
      "('Y', 'Y', 'Y', 'Y', 'Y', 'Y', 'Y', 'Y', 'Y', 'X', 'X', 'X', 'X', 'X', 'X', 'X', 'X', 'X', 'Z', 'Z', 'Z', 'Z', 'Z', 'Z', 'Z', 'Z', 'Z', 'Y', 'Y', 'Y', 'Y', 'Y', 'Y', 'Y', 'Y', 'Y', 'X', 'X', 'X', 'X', 'X', 'X', 'X', 'X', 'X', 'Z', 'Z', 'Z', 'Z', 'Z', 'Z', 'Z', 'Z')\n",
      "('Y', 'Y', 'Y', 'Y', 'Y', 'Y', 'Y', 'Y', 'Y', 'Z', 'Z', 'Z', 'Z', 'Z', 'Z', 'Z', 'Z', 'Z', 'X', 'X', 'X', 'X', 'X', 'X', 'X', 'X', 'X', 'Y', 'Y', 'Y', 'Y', 'Y', 'Y', 'Y', 'Y', 'Y', 'Z', 'Z', 'Z', 'Z', 'Z', 'Z', 'Z', 'Z', 'Z', 'X', 'X', 'X', 'X', 'X', 'X', 'X', 'X')\n",
      "('Z', 'Z', 'Z', 'Z', 'Z', 'Z', 'Z', 'Z', 'Z', 'X', 'X', 'X', 'X', 'X', 'X', 'X', 'X', 'X', 'Y', 'Y', 'Y', 'Y', 'Y', 'Y', 'Y', 'Y', 'Y', 'Z', 'Z', 'Z', 'Z', 'Z', 'Z', 'Z', 'Z', 'Z', 'X', 'X', 'X', 'X', 'X', 'X', 'X', 'X', 'X', 'Y', 'Y', 'Y', 'Y', 'Y', 'Y', 'Y', 'Y')\n",
      "('Z', 'Z', 'Z', 'Z', 'Z', 'Z', 'Z', 'Z', 'Z', 'Y', 'Y', 'Y', 'Y', 'Y', 'Y', 'Y', 'Y', 'Y', 'X', 'X', 'X', 'X', 'X', 'X', 'X', 'X', 'X', 'Z', 'Z', 'Z', 'Z', 'Z', 'Z', 'Z', 'Z', 'Z', 'Y', 'Y', 'Y', 'Y', 'Y', 'Y', 'Y', 'Y', 'Y', 'X', 'X', 'X', 'X', 'X', 'X', 'X', 'X')\n",
      "('X', 'X', 'X', 'X', 'X', 'X', 'X', 'X', 'X', 'X', 'X', 'X', 'X', 'X', 'X', 'X', 'X', 'X', 'X', 'X', 'X', 'X', 'X', 'X', 'X', 'X', 'X', 'Y', 'Y', 'Y', 'Y', 'Y', 'Y', 'Y', 'Y', 'Y', 'Y', 'Y', 'Y', 'Y', 'Y', 'Y', 'Y', 'Y', 'Y', 'Y', 'Y', 'Y', 'Y', 'Y', 'Y', 'Y', 'Y')\n",
      "('X', 'X', 'X', 'X', 'X', 'X', 'X', 'X', 'X', 'X', 'X', 'X', 'X', 'X', 'X', 'X', 'X', 'X', 'X', 'X', 'X', 'X', 'X', 'X', 'X', 'X', 'X', 'Z', 'Z', 'Z', 'Z', 'Z', 'Z', 'Z', 'Z', 'Z', 'Z', 'Z', 'Z', 'Z', 'Z', 'Z', 'Z', 'Z', 'Z', 'Z', 'Z', 'Z', 'Z', 'Z', 'Z', 'Z', 'Z')\n",
      "('Y', 'Y', 'Y', 'Y', 'Y', 'Y', 'Y', 'Y', 'Y', 'Y', 'Y', 'Y', 'Y', 'Y', 'Y', 'Y', 'Y', 'Y', 'Y', 'Y', 'Y', 'Y', 'Y', 'Y', 'Y', 'Y', 'Y', 'X', 'X', 'X', 'X', 'X', 'X', 'X', 'X', 'X', 'X', 'X', 'X', 'X', 'X', 'X', 'X', 'X', 'X', 'X', 'X', 'X', 'X', 'X', 'X', 'X', 'X')\n",
      "('Y', 'Y', 'Y', 'Y', 'Y', 'Y', 'Y', 'Y', 'Y', 'Y', 'Y', 'Y', 'Y', 'Y', 'Y', 'Y', 'Y', 'Y', 'Y', 'Y', 'Y', 'Y', 'Y', 'Y', 'Y', 'Y', 'Y', 'Z', 'Z', 'Z', 'Z', 'Z', 'Z', 'Z', 'Z', 'Z', 'Z', 'Z', 'Z', 'Z', 'Z', 'Z', 'Z', 'Z', 'Z', 'Z', 'Z', 'Z', 'Z', 'Z', 'Z', 'Z', 'Z')\n",
      "('Z', 'Z', 'Z', 'Z', 'Z', 'Z', 'Z', 'Z', 'Z', 'Z', 'Z', 'Z', 'Z', 'Z', 'Z', 'Z', 'Z', 'Z', 'Z', 'Z', 'Z', 'Z', 'Z', 'Z', 'Z', 'Z', 'Z', 'X', 'X', 'X', 'X', 'X', 'X', 'X', 'X', 'X', 'X', 'X', 'X', 'X', 'X', 'X', 'X', 'X', 'X', 'X', 'X', 'X', 'X', 'X', 'X', 'X', 'X')\n",
      "('Z', 'Z', 'Z', 'Z', 'Z', 'Z', 'Z', 'Z', 'Z', 'Z', 'Z', 'Z', 'Z', 'Z', 'Z', 'Z', 'Z', 'Z', 'Z', 'Z', 'Z', 'Z', 'Z', 'Z', 'Z', 'Z', 'Z', 'Y', 'Y', 'Y', 'Y', 'Y', 'Y', 'Y', 'Y', 'Y', 'Y', 'Y', 'Y', 'Y', 'Y', 'Y', 'Y', 'Y', 'Y', 'Y', 'Y', 'Y', 'Y', 'Y', 'Y', 'Y', 'Y')\n"
     ]
    }
   ],
   "source": [
    "for data in job.qobj().to_dict()['experiments']:\n",
    "    print(data['header']['name'])"
   ]
  }
 ],
 "metadata": {
  "kernelspec": {
   "display_name": "Python 3",
   "language": "python",
   "name": "python3"
  },
  "language_info": {
   "codemirror_mode": {
    "name": "ipython",
    "version": 3
   },
   "file_extension": ".py",
   "mimetype": "text/x-python",
   "name": "python",
   "nbconvert_exporter": "python",
   "pygments_lexer": "ipython3",
   "version": "3.7.3"
  }
 },
 "nbformat": 4,
 "nbformat_minor": 4
}
