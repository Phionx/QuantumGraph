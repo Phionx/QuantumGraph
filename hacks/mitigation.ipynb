{
 "cells": [
  {
   "cell_type": "code",
   "execution_count": 189,
   "metadata": {},
   "outputs": [],
   "source": [
    "from qiskit import *\n",
    "import numpy as np\n",
    "import scipy.linalg as la"
   ]
  },
  {
   "cell_type": "code",
   "execution_count": 141,
   "metadata": {},
   "outputs": [],
   "source": [
    "num_qubits = 5\n",
    "backend = Aer.get_backend('qasm_simulator')\n",
    "shots = 8192"
   ]
  },
  {
   "cell_type": "code",
   "execution_count": 142,
   "metadata": {},
   "outputs": [],
   "source": [
    "group = [[0,2,4,7,9,11,13,15,19,21,23,25,27,30,32,34,36,38,42,44,46,48,50]\n",
    "          ,[1,3,5,6,8,10,12,14,16,17,18,20,22,24,26,28,29,31,33,35,37,39,40,41,43,45,47,49,51,52]]"
   ]
  },
  {
   "cell_type": "code",
   "execution_count": 204,
   "metadata": {},
   "outputs": [],
   "source": [
    "coupling_map = [\n",
    "    (0, 1), (2, 3), (4, 6), (12, 13), (10, 11), (5, 9), (21, 22), (23, 24), (25, 29), (35, 36), (33, 34), (28, 32), (44, 45), (46, 47), (48, 52), (7, 16), (30, 39), (18, 27), (41, 50), (7, 8), (9, 10), (11, 17), (22, 23), (20, 21), (16, 19), (30, 31), (32, 33), (34, 40), (45, 46), (43, 44), (39, 42), (14, 15), (6, 13), (25, 26), (37, 38), (29, 36), (48, 49), (1, 2), (0, 5), (8, 9), (19, 20), (21, 28), (31, 32), (42, 43), (44, 51), (11, 12), (13, 14), (15, 18), (26, 27), (24, 25), (17, 23), (34, 35), (36, 37), (38, 41), (49, 50), (47, 48), (40, 46), (3, 4)\n",
    "]"
   ]
  },
  {
   "cell_type": "code",
   "execution_count": 149,
   "metadata": {},
   "outputs": [],
   "source": [
    "circuit = {string:QuantumCircuit(num_qubits) for string in ['00', '01', '10', '11']}\n",
    "for string in circuit:\n",
    "    for g in range(2):\n",
    "        if string[g]=='1':\n",
    "            for j in group[g]:\n",
    "                if j < num_qubits:\n",
    "                    circuit[string].x(j)\n",
    "                    \n",
    "meas = QuantumCircuit(num_qubits,num_qubits)\n",
    "for j in range(num_qubits):\n",
    "    meas.measure(j,j)"
   ]
  },
  {
   "cell_type": "code",
   "execution_count": null,
   "metadata": {},
   "outputs": [],
   "source": []
  },
  {
   "cell_type": "code",
   "execution_count": 150,
   "metadata": {},
   "outputs": [],
   "source": [
    "circuit_list = [circuit[string]+meas for string in ['00', '01', '10', '11']]\n",
    "results = execute(circuit_list, backend, shots=shots).result()\n",
    "miti_counts = {string:results.get_counts(int(string,2)) for string in circuit}"
   ]
  },
  {
   "cell_type": "code",
   "execution_count": 179,
   "metadata": {},
   "outputs": [],
   "source": [
    "miti_counts = {'00': {'00000': 8000, '11111': 192},\n",
    " '01': {'01010': 8000, '10101': 192},\n",
    " '10': {'10101': 8000, '01010': 192},\n",
    " '11': {'11111': 7000,'00000': 1192}}"
   ]
  },
  {
   "cell_type": "code",
   "execution_count": 200,
   "metadata": {},
   "outputs": [],
   "source": [
    "M = {}\n",
    "Minv = {}\n",
    "for (q0,q1) in coupling_map:\n",
    "    M[q0,q1] = [[0 for _ in range(4)] for _ in range(4)]\n",
    "    if q0<num_qubits and q1<num_qubits:\n",
    "        for string in ['00', '01', '10', '11']:\n",
    "            for output in miti_counts[string]:\n",
    "                measured_string = output[-q0-1] + output[-q1-1]\n",
    "                if q0 in group[1]:\n",
    "                    measured_string = measured_string[::-1]\n",
    "                M[q0,q1][int(measured_string,2)][int(string,2)] += miti_counts[string][output]/shots\n",
    "                Minv[q0,q1] = la.pinv( M[q0,q1] ) "
   ]
  },
  {
   "cell_type": "code",
   "execution_count": null,
   "metadata": {},
   "outputs": [],
   "source": [
    "def counts2prob(counts)"
   ]
  },
  {
   "cell_type": "code",
   "execution_count": null,
   "metadata": {},
   "outputs": [],
   "source": []
  },
  {
   "cell_type": "code",
   "execution_count": null,
   "metadata": {},
   "outputs": [],
   "source": []
  },
  {
   "cell_type": "code",
   "execution_count": null,
   "metadata": {},
   "outputs": [],
   "source": []
  },
  {
   "cell_type": "code",
   "execution_count": 201,
   "metadata": {},
   "outputs": [
    {
     "data": {
      "text/plain": [
       "array([0.9765625, 0.       , 0.       , 0.0234375])"
      ]
     },
     "execution_count": 201,
     "metadata": {},
     "output_type": "execute_result"
    }
   ],
   "source": [
    "np.dot(M[q0,q1],[1,0,0,0])"
   ]
  },
  {
   "cell_type": "code",
   "execution_count": 202,
   "metadata": {},
   "outputs": [
    {
     "data": {
      "text/plain": [
       "array([0.14550781, 0.        , 0.        , 0.85449219])"
      ]
     },
     "execution_count": 202,
     "metadata": {},
     "output_type": "execute_result"
    }
   ],
   "source": [
    "np.dot(M[q0,q1],[0,0,0,1])"
   ]
  },
  {
   "cell_type": "code",
   "execution_count": 203,
   "metadata": {},
   "outputs": [
    {
     "data": {
      "text/plain": [
       "array([1.00000000e+00, 0.00000000e+00, 0.00000000e+00, 1.73472348e-17])"
      ]
     },
     "execution_count": 203,
     "metadata": {},
     "output_type": "execute_result"
    }
   ],
   "source": [
    "np.dot(Minv[q0,q1],[0.9765625, 0.       , 0.       , 0.0234375])"
   ]
  },
  {
   "cell_type": "code",
   "execution_count": 219,
   "metadata": {},
   "outputs": [
    {
     "data": {
      "text/plain": [
       "0.0007633088733403042"
      ]
     },
     "execution_count": 219,
     "metadata": {},
     "output_type": "execute_result"
    }
   ],
   "source": [
    "np.random.normal(scale=0.5/np.sqrt(shots))"
   ]
  },
  {
   "cell_type": "code",
   "execution_count": 220,
   "metadata": {},
   "outputs": [],
   "source": [
    "import time"
   ]
  },
  {
   "cell_type": "code",
   "execution_count": 228,
   "metadata": {},
   "outputs": [
    {
     "data": {
      "text/plain": [
       "1581350767.304697"
      ]
     },
     "execution_count": 228,
     "metadata": {},
     "output_type": "execute_result"
    }
   ],
   "source": [
    "time.time()"
   ]
  },
  {
   "cell_type": "code",
   "execution_count": 229,
   "metadata": {},
   "outputs": [],
   "source": [
    "qc = QuantumCircuit(3)"
   ]
  },
  {
   "cell_type": "code",
   "execution_count": 231,
   "metadata": {},
   "outputs": [
    {
     "ename": "TypeError",
     "evalue": "ch() missing 2 required positional arguments: 'ctl' and 'tgt'",
     "output_type": "error",
     "traceback": [
      "\u001b[0;31m---------------------------------------------------------------------------\u001b[0m",
      "\u001b[0;31mTypeError\u001b[0m                                 Traceback (most recent call last)",
      "\u001b[0;32m<ipython-input-231-217a65b9b31d>\u001b[0m in \u001b[0;36m<module>\u001b[0;34m\u001b[0m\n\u001b[0;32m----> 1\u001b[0;31m \u001b[0mqc\u001b[0m\u001b[0;34m.\u001b[0m\u001b[0mch\u001b[0m\u001b[0;34m(\u001b[0m\u001b[0;34m)\u001b[0m\u001b[0;34m\u001b[0m\u001b[0;34m\u001b[0m\u001b[0m\n\u001b[0m",
      "\u001b[0;31mTypeError\u001b[0m: ch() missing 2 required positional arguments: 'ctl' and 'tgt'"
     ]
    }
   ],
   "source": [
    "qc.ch()"
   ]
  },
  {
   "cell_type": "code",
   "execution_count": 232,
   "metadata": {},
   "outputs": [
    {
     "data": {
      "text/plain": [
       "(1, (1, 2))"
      ]
     },
     "execution_count": 232,
     "metadata": {},
     "output_type": "execute_result"
    }
   ],
   "source": [
    "(1,(1,2))"
   ]
  },
  {
   "cell_type": "code",
   "execution_count": null,
   "metadata": {},
   "outputs": [],
   "source": []
  }
 ],
 "metadata": {
  "kernelspec": {
   "display_name": "Python 3",
   "language": "python",
   "name": "python3"
  },
  "language_info": {
   "codemirror_mode": {
    "name": "ipython",
    "version": 3
   },
   "file_extension": ".py",
   "mimetype": "text/x-python",
   "name": "python",
   "nbconvert_exporter": "python",
   "pygments_lexer": "ipython3",
   "version": "3.7.3"
  }
 },
 "nbformat": 4,
 "nbformat_minor": 4
}
